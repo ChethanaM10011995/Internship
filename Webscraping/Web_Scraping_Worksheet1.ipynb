{
 "cells": [
  {
   "cell_type": "markdown",
   "id": "4208f898",
   "metadata": {},
   "source": [
    "# 1. Python program to display all the header tags from wikipedia.org."
   ]
  },
  {
   "cell_type": "code",
   "execution_count": null,
   "id": "8f84f4c2",
   "metadata": {
    "scrolled": false
   },
   "outputs": [],
   "source": [
    "!pip install bs4\n",
    "!pip install requests"
   ]
  },
  {
   "cell_type": "code",
   "execution_count": null,
   "id": "2de7eef3",
   "metadata": {},
   "outputs": [],
   "source": [
    "from bs4 import BeautifulSoup\n",
    "import requests"
   ]
  },
  {
   "cell_type": "code",
   "execution_count": null,
   "id": "6d7cf267",
   "metadata": {},
   "outputs": [],
   "source": [
    "page = requests.get('https://en.wikipedia.org/wiki/Main_Page')"
   ]
  },
  {
   "cell_type": "code",
   "execution_count": null,
   "id": "1bd41a9b",
   "metadata": {},
   "outputs": [],
   "source": [
    "page"
   ]
  },
  {
   "cell_type": "code",
   "execution_count": null,
   "id": "c1da5846",
   "metadata": {},
   "outputs": [],
   "source": [
    "soup = BeautifulSoup(page.content)\n",
    "soup"
   ]
  },
  {
   "cell_type": "code",
   "execution_count": null,
   "id": "43681ae6",
   "metadata": {},
   "outputs": [],
   "source": [
    "header_tags = soup.find('span',class_=\"mw-headline\")\n",
    "header_tags"
   ]
  },
  {
   "cell_type": "code",
   "execution_count": null,
   "id": "fb5edea7",
   "metadata": {},
   "outputs": [],
   "source": [
    "header_tags.text"
   ]
  },
  {
   "cell_type": "code",
   "execution_count": null,
   "id": "34733c75",
   "metadata": {},
   "outputs": [],
   "source": [
    "header_tags_list = []"
   ]
  },
  {
   "cell_type": "code",
   "execution_count": null,
   "id": "43c9f18d",
   "metadata": {},
   "outputs": [],
   "source": [
    "for i in soup.find_all('span',class_=\"mw-headline\"):\n",
    "    header_tags_list.append(i.text)\n",
    "    \n",
    "header_tags_list"
   ]
  },
  {
   "cell_type": "code",
   "execution_count": null,
   "id": "242849eb",
   "metadata": {},
   "outputs": [],
   "source": [
    "import pandas as pd\n",
    "df=pd.DataFrame({'Header tags':header_tags_list})\n",
    "df"
   ]
  },
  {
   "cell_type": "markdown",
   "id": "e31aa61f",
   "metadata": {},
   "source": [
    "# 2. Python program to display IMDBs top rated 100 movies' data (i.e. name, rating, year of release) and make a data frame. "
   ]
  },
  {
   "cell_type": "code",
   "execution_count": null,
   "id": "a26e73ee",
   "metadata": {},
   "outputs": [],
   "source": [
    "!pip install bs4\n",
    "!pip install requests"
   ]
  },
  {
   "cell_type": "code",
   "execution_count": null,
   "id": "a66702f2",
   "metadata": {},
   "outputs": [],
   "source": [
    "from bs4 import BeautifulSoup\n",
    "import requests"
   ]
  },
  {
   "cell_type": "code",
   "execution_count": null,
   "id": "57fb83dd",
   "metadata": {},
   "outputs": [],
   "source": [
    "page = requests.get('https://www.imdb.com/search/title/?groups=top_100&sort=user_rating,desc')\n",
    "page"
   ]
  },
  {
   "cell_type": "code",
   "execution_count": null,
   "id": "29e521e7",
   "metadata": {},
   "outputs": [],
   "source": [
    "soup = BeautifulSoup(page.content)\n",
    "soup"
   ]
  },
  {
   "cell_type": "code",
   "execution_count": null,
   "id": "43834a0e",
   "metadata": {},
   "outputs": [],
   "source": [
    "moviename_yearofrelease = soup.find('h3',class_=\"lister-item-header\")\n",
    "moviename_yearofrelease"
   ]
  },
  {
   "cell_type": "code",
   "execution_count": null,
   "id": "7a418471",
   "metadata": {},
   "outputs": [],
   "source": [
    "moviename_yearofrelease.text"
   ]
  },
  {
   "cell_type": "code",
   "execution_count": null,
   "id": "56a67c00",
   "metadata": {},
   "outputs": [],
   "source": [
    "moviename_yearofrelease_list=[]\n",
    "for i in soup.find_all('h3',class_=\"lister-item-header\"):\n",
    "    moviename_yearofrelease_list.append(i.text)"
   ]
  },
  {
   "cell_type": "code",
   "execution_count": null,
   "id": "2e25f59e",
   "metadata": {},
   "outputs": [],
   "source": [
    "moviename_yearofrelease_list"
   ]
  },
  {
   "cell_type": "code",
   "execution_count": null,
   "id": "0880897e",
   "metadata": {},
   "outputs": [],
   "source": [
    "ratings = soup.find('div',class_=\"inline-block ratings-imdb-rating\")\n",
    "ratings"
   ]
  },
  {
   "cell_type": "code",
   "execution_count": null,
   "id": "29dae40f",
   "metadata": {},
   "outputs": [],
   "source": [
    "ratings.text.split()"
   ]
  },
  {
   "cell_type": "code",
   "execution_count": null,
   "id": "be23e915",
   "metadata": {},
   "outputs": [],
   "source": [
    "ratings_list=[]\n",
    "for i in soup.find_all('div',class_=\"inline-block ratings-imdb-rating\"):\n",
    "    ratings_list.append(i.text)\n",
    "    \n",
    "ratings_list\n"
   ]
  },
  {
   "cell_type": "code",
   "execution_count": null,
   "id": "3492e89a",
   "metadata": {},
   "outputs": [],
   "source": [
    "import pandas as pd\n",
    "IMDBs_df=pd.DataFrame(list(zip(moviename_yearofrelease_list,ratings_list)),columns =['Name/Year','Ratings'])\n",
    "\n",
    "IMDBs_df['Name/Year'] = IMDBs_df['Name/Year'].str.replace(r'\\n','',regex=True)\n",
    "IMDBs_df['Ratings'] = IMDBs_df['Ratings'].str.replace(r'\\n','',regex=True)\n",
    "\n",
    "print(IMDBs_df)\n",
    "\n",
    "df=IMDBs_df.drop(IMDBs_df.index[10:])\n",
    "df"
   ]
  },
  {
   "cell_type": "markdown",
   "id": "2072fd2f",
   "metadata": {},
   "source": [
    "# 3. Python program to display IMDBs top rated 100 Indian movies' data (i.e. name, rating, year of release) and make a data frame. "
   ]
  },
  {
   "cell_type": "code",
   "execution_count": null,
   "id": "6cdaec92",
   "metadata": {},
   "outputs": [],
   "source": [
    "!pip install bs4\n",
    "!pip install requests"
   ]
  },
  {
   "cell_type": "code",
   "execution_count": null,
   "id": "60f89726",
   "metadata": {},
   "outputs": [],
   "source": [
    "from bs4 import BeautifulSoup\n",
    "import requests"
   ]
  },
  {
   "cell_type": "code",
   "execution_count": null,
   "id": "2dc0d44f",
   "metadata": {},
   "outputs": [],
   "source": [
    "page=requests.get('https://www.imdb.com/india/top-rated-indian-movies/')\n",
    "page"
   ]
  },
  {
   "cell_type": "code",
   "execution_count": null,
   "id": "5925c6e4",
   "metadata": {},
   "outputs": [],
   "source": [
    "soup=BeautifulSoup(page.content)\n",
    "soup"
   ]
  },
  {
   "cell_type": "code",
   "execution_count": null,
   "id": "e3f235fc",
   "metadata": {},
   "outputs": [],
   "source": [
    "Name=soup.find('td',class_=\"titleColumn\")\n",
    "Name"
   ]
  },
  {
   "cell_type": "code",
   "execution_count": null,
   "id": "3623d270",
   "metadata": {},
   "outputs": [],
   "source": [
    "Name.text"
   ]
  },
  {
   "cell_type": "code",
   "execution_count": null,
   "id": "dc110bee",
   "metadata": {},
   "outputs": [],
   "source": [
    "Name_List=[]\n",
    "for i in soup.find_all('td',class_=\"titleColumn\"):\n",
    "    Name_List.append(i.text)\n",
    "    \n",
    "Name_List"
   ]
  },
  {
   "cell_type": "code",
   "execution_count": null,
   "id": "7146d1a5",
   "metadata": {},
   "outputs": [],
   "source": [
    "Rating=soup.find('td',class_=\"ratingColumn imdbRating\")\n",
    "Rating"
   ]
  },
  {
   "cell_type": "code",
   "execution_count": null,
   "id": "e040f3b4",
   "metadata": {},
   "outputs": [],
   "source": [
    "Rating.text"
   ]
  },
  {
   "cell_type": "code",
   "execution_count": null,
   "id": "d6beb631",
   "metadata": {},
   "outputs": [],
   "source": [
    "Rating_List=[]\n",
    "for i in soup.find_all('td',class_=\"ratingColumn imdbRating\"):\n",
    "    Rating_List.append(i.text)\n",
    "    \n",
    "Rating_List"
   ]
  },
  {
   "cell_type": "code",
   "execution_count": null,
   "id": "91027dc1",
   "metadata": {},
   "outputs": [],
   "source": [
    "import pandas as pd\n",
    "Indian_df=pd.DataFrame(list(zip(Name_List,Rating_List)),columns =['Name/Year','Ratings'])\n",
    "\n",
    "Indian_df['Name/Year'] = Indian_df['Name/Year'].str.replace(r'\\n','',regex=True)\n",
    "Indian_df['Ratings'] = Indian_df['Ratings'].str.replace(r'\\n','',regex=True)\n",
    "\n",
    "print(Indian_df)\n"
   ]
  },
  {
   "cell_type": "code",
   "execution_count": null,
   "id": "ab44825f",
   "metadata": {},
   "outputs": [],
   "source": [
    "df1=Indian_df.drop(Indian_df.index[10:])\n",
    "df1"
   ]
  },
  {
   "cell_type": "markdown",
   "id": "3067ebcb",
   "metadata": {},
   "source": [
    "# 4. python program to display list of respected former presidents of India(i.e. Name , Term of office)"
   ]
  },
  {
   "cell_type": "code",
   "execution_count": null,
   "id": "3588fd36",
   "metadata": {},
   "outputs": [],
   "source": [
    "!pip install bs4\n",
    "!pip install requests"
   ]
  },
  {
   "cell_type": "code",
   "execution_count": null,
   "id": "23f9c7b2",
   "metadata": {},
   "outputs": [],
   "source": [
    "from bs4 import BeautifulSoup\n",
    "import requests"
   ]
  },
  {
   "cell_type": "code",
   "execution_count": null,
   "id": "22b5246c",
   "metadata": {},
   "outputs": [],
   "source": [
    "page = requests.get('https://presidentofindia.nic.in/former-presidents.htm')\n",
    "page"
   ]
  },
  {
   "cell_type": "code",
   "execution_count": null,
   "id": "298dc45d",
   "metadata": {},
   "outputs": [],
   "source": [
    "soup=BeautifulSoup(page.content)\n",
    "soup"
   ]
  },
  {
   "cell_type": "code",
   "execution_count": null,
   "id": "292802ce",
   "metadata": {},
   "outputs": [],
   "source": [
    "Former_Presidents=soup.find('div',class_=\"presidentListing\")\n",
    "Former_Presidents"
   ]
  },
  {
   "cell_type": "code",
   "execution_count": null,
   "id": "c841e252",
   "metadata": {},
   "outputs": [],
   "source": [
    "Former_Presidents.text"
   ]
  },
  {
   "cell_type": "code",
   "execution_count": null,
   "id": "2c04f993",
   "metadata": {},
   "outputs": [],
   "source": [
    "Former_Presidents_List=[]\n",
    "for i in soup.find_all('div',class_=\"presidentListing\"):\n",
    "    Former_Presidents_List.append(i.text)\n",
    "    \n",
    "Former_Presidents_List"
   ]
  },
  {
   "cell_type": "code",
   "execution_count": null,
   "id": "eb7b565b",
   "metadata": {},
   "outputs": [],
   "source": [
    "import pandas as pd\n",
    "Presidents_df=pd.DataFrame(list(zip(Former_Presidents_List)),columns =['Name DOB Term of office'])\n",
    "\n",
    "Presidents_df['Name DOB Term of office'] = Presidents_df['Name DOB Term of office'].str.replace(r'\\n','',regex=True)\n",
    "Presidents_df['Name DOB Term of office'] = Presidents_df['Name DOB Term of office'].str.replace(r'Term of Office','',regex=True)\n",
    "\n",
    "print(Presidents_df)"
   ]
  },
  {
   "cell_type": "markdown",
   "id": "b998cc84",
   "metadata": {},
   "source": [
    "# 5. Python program to scrap a) top 10 ODI teams in men's cricket along with the records of matches, points and rating."
   ]
  },
  {
   "cell_type": "code",
   "execution_count": null,
   "id": "295fb055",
   "metadata": {},
   "outputs": [],
   "source": [
    "!pip install bs4\n",
    "!pip install requests"
   ]
  },
  {
   "cell_type": "code",
   "execution_count": null,
   "id": "0f7a04bb",
   "metadata": {},
   "outputs": [],
   "source": [
    "from bs4 import BeautifulSoup\n",
    "import requests"
   ]
  },
  {
   "cell_type": "code",
   "execution_count": null,
   "id": "02bf69bd",
   "metadata": {},
   "outputs": [],
   "source": [
    "page = requests.get('https://www.icc-cricket.com/rankings/mens/team-rankings/odi')\n",
    "page"
   ]
  },
  {
   "cell_type": "code",
   "execution_count": null,
   "id": "2f0373e1",
   "metadata": {},
   "outputs": [],
   "source": [
    "soup = BeautifulSoup(page.content)\n",
    "soup"
   ]
  },
  {
   "cell_type": "code",
   "execution_count": null,
   "id": "cf9ba8d9",
   "metadata": {},
   "outputs": [],
   "source": [
    "Teams=soup.find('span',class_=\"u-hide-phablet\")\n",
    "Teams"
   ]
  },
  {
   "cell_type": "code",
   "execution_count": null,
   "id": "1cd0b7ac",
   "metadata": {},
   "outputs": [],
   "source": [
    "Teams.text"
   ]
  },
  {
   "cell_type": "code",
   "execution_count": null,
   "id": "64363bbb",
   "metadata": {},
   "outputs": [],
   "source": [
    "Team_List=[]\n",
    "for i in soup.find_all('span',class_=\"u-hide-phablet\"):\n",
    "    Team_List.append(i.text)\n",
    "Team_List"
   ]
  },
  {
   "cell_type": "code",
   "execution_count": null,
   "id": "d6e71e32",
   "metadata": {},
   "outputs": [],
   "source": [
    "Matches_Points=soup.find('td',class_=\"table-body__cell u-center-text\")\n",
    "Matches_Points"
   ]
  },
  {
   "cell_type": "code",
   "execution_count": null,
   "id": "43534867",
   "metadata": {},
   "outputs": [],
   "source": [
    "Matches_Points.text"
   ]
  },
  {
   "cell_type": "code",
   "execution_count": null,
   "id": "8b8cf094",
   "metadata": {},
   "outputs": [],
   "source": [
    "Matches_Points_List=[]\n",
    "for i in soup.find_all('td',class_=\"table-body__cell u-center-text\"):\n",
    "    Matches_Points_List.append(i.text)\n",
    "Matches_Points_List\n"
   ]
  },
  {
   "cell_type": "code",
   "execution_count": null,
   "id": "7f47c44d",
   "metadata": {},
   "outputs": [],
   "source": [
    "res = Matches_Points_List[::2] + Matches_Points_List[1::2]\n",
    "New_List=print(str(res))"
   ]
  },
  {
   "cell_type": "code",
   "execution_count": null,
   "id": "2bca67e3",
   "metadata": {},
   "outputs": [],
   "source": [
    "Matches_List=res[:19]\n",
    "Points_List=res[19:]\n",
    "\n",
    "Matches_List.insert(0,16)\n",
    "Points_List.insert(0,'2,015')\n",
    "\n",
    "print(Matches_List)\n",
    "print(Points_List)\n"
   ]
  },
  {
   "cell_type": "code",
   "execution_count": null,
   "id": "da2dd62e",
   "metadata": {},
   "outputs": [],
   "source": [
    "Rating=soup.find('td',class_=\"table-body__cell u-text-right rating\")\n",
    "Rating"
   ]
  },
  {
   "cell_type": "code",
   "execution_count": null,
   "id": "d3697eb5",
   "metadata": {},
   "outputs": [],
   "source": [
    "Rating.text"
   ]
  },
  {
   "cell_type": "code",
   "execution_count": null,
   "id": "9f094e28",
   "metadata": {},
   "outputs": [],
   "source": [
    "Rating_List=[]\n",
    "for i in soup.find_all('td',class_=\"table-body__cell u-text-right rating\"):\n",
    "    Rating_List.append(i.text)\n",
    "Rating_List.insert(0,128)\n",
    "\n",
    "Rating_List\n"
   ]
  },
  {
   "cell_type": "code",
   "execution_count": null,
   "id": "0c1c19a1",
   "metadata": {},
   "outputs": [],
   "source": [
    "import pandas as pd\n",
    "df = pd.DataFrame(list(zip(Team_List,Matches_List,Points_List,Rating_List)),\n",
    "               columns =['Team', 'Matches', 'Points', 'Ratings'])\n",
    "df"
   ]
  },
  {
   "cell_type": "code",
   "execution_count": null,
   "id": "7b838a2d",
   "metadata": {},
   "outputs": [],
   "source": [
    "Teams_df1=df.drop(df.index[10:])\n",
    "print(Teams_df1)"
   ]
  },
  {
   "cell_type": "markdown",
   "id": "e95dcd22",
   "metadata": {},
   "source": [
    "# 5b. Python program to scrape top 10 ODI Batsmen along with the records of their team and rating."
   ]
  },
  {
   "cell_type": "code",
   "execution_count": null,
   "id": "a8b79d1c",
   "metadata": {},
   "outputs": [],
   "source": [
    "!pip install bs4\n",
    "!pip install requests"
   ]
  },
  {
   "cell_type": "code",
   "execution_count": null,
   "id": "a501a296",
   "metadata": {},
   "outputs": [],
   "source": [
    "from bs4 import BeautifulSoup\n",
    "import requests"
   ]
  },
  {
   "cell_type": "code",
   "execution_count": null,
   "id": "bb947d1a",
   "metadata": {},
   "outputs": [],
   "source": [
    "page=requests.get('https://www.icc-cricket.com/rankings/mens/player-rankings/odi')\n",
    "page"
   ]
  },
  {
   "cell_type": "code",
   "execution_count": null,
   "id": "a30365e7",
   "metadata": {},
   "outputs": [],
   "source": [
    "soup=BeautifulSoup(page.content)\n",
    "soup"
   ]
  },
  {
   "cell_type": "code",
   "execution_count": null,
   "id": "318c93fa",
   "metadata": {},
   "outputs": [],
   "source": [
    "Player=soup.find('td',class_=\"table-body__cell name\")\n",
    "Player"
   ]
  },
  {
   "cell_type": "code",
   "execution_count": null,
   "id": "c1ebb6a6",
   "metadata": {},
   "outputs": [],
   "source": [
    "Player.text"
   ]
  },
  {
   "cell_type": "code",
   "execution_count": null,
   "id": "f464c8c1",
   "metadata": {},
   "outputs": [],
   "source": [
    "Player_List=[]\n",
    "for i in soup.find_all('td',class_=\"table-body__cell name\"):\n",
    "    Player_List.append(i.text)\n",
    "Player_List.insert(0,'Babar Azam')\n",
    "Player_List"
   ]
  },
  {
   "cell_type": "code",
   "execution_count": null,
   "id": "99270482",
   "metadata": {},
   "outputs": [],
   "source": [
    "Teams=soup.find('span',class_=\"table-body__logo-text\")\n",
    "Teams"
   ]
  },
  {
   "cell_type": "code",
   "execution_count": null,
   "id": "af14a299",
   "metadata": {},
   "outputs": [],
   "source": [
    "Teams.text"
   ]
  },
  {
   "cell_type": "code",
   "execution_count": null,
   "id": "86673f99",
   "metadata": {},
   "outputs": [],
   "source": [
    "Teams_List=[]\n",
    "for i in soup.find_all('span',class_=\"table-body__logo-text\"):\n",
    "    Teams_List.append(i.text)\n",
    "Teams_List.insert(0,'PAK')\n",
    "Teams_List"
   ]
  },
  {
   "cell_type": "code",
   "execution_count": null,
   "id": "8112cb41",
   "metadata": {},
   "outputs": [],
   "source": [
    "Ratings=soup.find('td',class_=\"table-body__cell u-text-right rating\")\n",
    "Ratings"
   ]
  },
  {
   "cell_type": "code",
   "execution_count": null,
   "id": "a677c603",
   "metadata": {},
   "outputs": [],
   "source": [
    "Ratings.text"
   ]
  },
  {
   "cell_type": "code",
   "execution_count": null,
   "id": "f4001cce",
   "metadata": {},
   "outputs": [],
   "source": [
    "Ratings_List=[]\n",
    "for i in soup.find_all('td',class_=\"table-body__cell u-text-right rating\"):\n",
    "    Ratings_List.append(i.text)\n",
    "Ratings_List.insert(0,'829')"
   ]
  },
  {
   "cell_type": "code",
   "execution_count": null,
   "id": "f82f4108",
   "metadata": {},
   "outputs": [],
   "source": [
    "import pandas as pd\n",
    "Batsmen_df=pd.DataFrame(list(zip(Player_List,Teams_List,Ratings_List)),columns=['Players','Teams','Ratings'])\n",
    "print(Batsmen_df)"
   ]
  },
  {
   "cell_type": "code",
   "execution_count": null,
   "id": "a6200fea",
   "metadata": {},
   "outputs": [],
   "source": [
    "Batsmen_df1=Batsmen_df.drop(Batsmen_df.index[10:])\n",
    "print(Batsmen_df1)"
   ]
  },
  {
   "cell_type": "markdown",
   "id": "9432474e",
   "metadata": {},
   "source": [
    "# 5c. Python program to scrape top 10 ODI Batsmen along with the records of their team and rating."
   ]
  },
  {
   "cell_type": "code",
   "execution_count": null,
   "id": "cdafff8b",
   "metadata": {},
   "outputs": [],
   "source": [
    "import pandas as pd\n",
    "Bowlers_df=pd.DataFrame(list(zip(Player_List,Teams_List,Ratings_List)),columns=['Players','Teams','Ratings'])\n",
    "print(Bowlers_df)"
   ]
  },
  {
   "cell_type": "code",
   "execution_count": null,
   "id": "8fc0a054",
   "metadata": {},
   "outputs": [],
   "source": [
    "Bowlers_df1=Bowlers_df.drop(Bowlers_df.index[:10])\n",
    "print(Bowlers_df1)"
   ]
  },
  {
   "cell_type": "code",
   "execution_count": null,
   "id": "9951b2ef",
   "metadata": {},
   "outputs": [],
   "source": [
    "Bowlers_df2=Bowlers_df1.drop(Bowlers_df1.index[9:])\n",
    "print(Bowlers_df2)"
   ]
  },
  {
   "cell_type": "code",
   "execution_count": null,
   "id": "b01cf46e",
   "metadata": {},
   "outputs": [],
   "source": [
    "Bowlers_df2.loc[len(Bowlers_df2.index)] =['Trent Boult', 'NZ', '697'] \n",
    "  \n",
    "display(Bowlers_df2)"
   ]
  },
  {
   "cell_type": "markdown",
   "id": "277aa93b",
   "metadata": {},
   "source": [
    "# 7. Python program to scrape News details"
   ]
  },
  {
   "cell_type": "code",
   "execution_count": null,
   "id": "13fa8837",
   "metadata": {},
   "outputs": [],
   "source": [
    "!pip install bs4\n",
    "!pip install requests"
   ]
  },
  {
   "cell_type": "code",
   "execution_count": null,
   "id": "5c0d3823",
   "metadata": {},
   "outputs": [],
   "source": [
    "from bs4 import BeautifulSoup\n",
    "import requests"
   ]
  },
  {
   "cell_type": "code",
   "execution_count": null,
   "id": "bd1c9086",
   "metadata": {},
   "outputs": [],
   "source": [
    "page=requests.get('https://www.cnbc.com/world/?region=world')\n",
    "page"
   ]
  },
  {
   "cell_type": "code",
   "execution_count": null,
   "id": "8dd89126",
   "metadata": {},
   "outputs": [],
   "source": [
    "soup=BeautifulSoup(page.content)\n",
    "soup"
   ]
  },
  {
   "cell_type": "code",
   "execution_count": null,
   "id": "158836d8",
   "metadata": {},
   "outputs": [],
   "source": [
    "Headlines=soup.find('div',class_=\"RiverPlusCard-container\")\n",
    "Headlines"
   ]
  },
  {
   "cell_type": "code",
   "execution_count": null,
   "id": "048f7e31",
   "metadata": {},
   "outputs": [],
   "source": [
    "Headlines.text"
   ]
  },
  {
   "cell_type": "code",
   "execution_count": null,
   "id": "352e1280",
   "metadata": {},
   "outputs": [],
   "source": [
    "Headlines_List=[]\n",
    "for i in soup.find_all('div',class_=\"RiverHeadline-headline RiverHeadline-hasThumbnail\"):\n",
    "    Headlines_List.append(i.text)\n",
    "Headlines_List"
   ]
  },
  {
   "cell_type": "code",
   "execution_count": null,
   "id": "70fc57ff",
   "metadata": {},
   "outputs": [],
   "source": [
    "Time=soup.find('span',class_=\"RiverByline-datePublished\")\n",
    "Time"
   ]
  },
  {
   "cell_type": "code",
   "execution_count": null,
   "id": "7f843bb6",
   "metadata": {},
   "outputs": [],
   "source": [
    "Time.text"
   ]
  },
  {
   "cell_type": "code",
   "execution_count": null,
   "id": "c0581368",
   "metadata": {},
   "outputs": [],
   "source": [
    "Time_List=[]\n",
    "for i in soup.find_all('span',class_=\"RiverByline-datePublished\"):\n",
    "    Time_List.append(i.text)\n",
    "Time_List"
   ]
  },
  {
   "cell_type": "markdown",
   "id": "d50b3b12",
   "metadata": {},
   "source": [
    "# 8. Write a python program to scrape the details of most downloaded articles from AI in last 90 days."
   ]
  },
  {
   "cell_type": "code",
   "execution_count": null,
   "id": "4872833b",
   "metadata": {},
   "outputs": [],
   "source": [
    "!pip install bs4\n",
    "!pip install requests"
   ]
  },
  {
   "cell_type": "code",
   "execution_count": null,
   "id": "a02f5123",
   "metadata": {},
   "outputs": [],
   "source": [
    "from bs4 import BeautifulSoup\n",
    "import requests\n",
    "import re"
   ]
  },
  {
   "cell_type": "code",
   "execution_count": null,
   "id": "aac54fc4",
   "metadata": {},
   "outputs": [],
   "source": [
    "page=requests.get('https://www.journals.elsevier.com/artificial-intelligence/most-downloaded-articles')\n",
    "page"
   ]
  },
  {
   "cell_type": "code",
   "execution_count": null,
   "id": "9eb42c64",
   "metadata": {},
   "outputs": [],
   "source": [
    "soup=BeautifulSoup(page.content)\n",
    "soup"
   ]
  },
  {
   "cell_type": "code",
   "execution_count": null,
   "id": "cb57409e",
   "metadata": {},
   "outputs": [],
   "source": [
    "PaperTitle=soup.find('h2',class_=\"sc-1qrq3sd-1 MKjKb sc-1nmom32-0 sc-1nmom32-1 hqhUYH ebTA-dR\")\n",
    "PaperTitle"
   ]
  },
  {
   "cell_type": "code",
   "execution_count": null,
   "id": "ef13e47e",
   "metadata": {},
   "outputs": [],
   "source": [
    "PaperTitle.text"
   ]
  },
  {
   "cell_type": "code",
   "execution_count": null,
   "id": "c3840bf0",
   "metadata": {},
   "outputs": [],
   "source": [
    "PaperTitle_List=[]\n",
    "for i in soup.find_all('h2',class_=\"sc-1qrq3sd-1 MKjKb sc-1nmom32-0 sc-1nmom32-1 hqhUYH ebTA-dR\"):\n",
    "    PaperTitle_List.append(i.text)\n",
    "PaperTitle_List"
   ]
  },
  {
   "cell_type": "code",
   "execution_count": null,
   "id": "9e31afe1",
   "metadata": {},
   "outputs": [],
   "source": [
    "Authors=soup.find('span',class_=\"sc-1w3fpd7-0 pgLAT\")\n",
    "Authors"
   ]
  },
  {
   "cell_type": "code",
   "execution_count": null,
   "id": "d4ee058b",
   "metadata": {},
   "outputs": [],
   "source": [
    "Authors.text"
   ]
  },
  {
   "cell_type": "code",
   "execution_count": null,
   "id": "2edc7c26",
   "metadata": {},
   "outputs": [],
   "source": [
    "Authors_List=[]\n",
    "for i in soup.find_all('span',class_=\"sc-1w3fpd7-0 pgLAT\"):\n",
    "    Authors_List.append(i.text)\n",
    "Authors_List"
   ]
  },
  {
   "cell_type": "code",
   "execution_count": null,
   "id": "3c8b25a5",
   "metadata": {},
   "outputs": [],
   "source": [
    "PublishedDate=soup.find('span',class_=\"sc-1thf9ly-2 bKddwo\")\n",
    "PublishedDate"
   ]
  },
  {
   "cell_type": "code",
   "execution_count": null,
   "id": "61d5d49b",
   "metadata": {},
   "outputs": [],
   "source": [
    "PublishedDate.text"
   ]
  },
  {
   "cell_type": "code",
   "execution_count": null,
   "id": "8375fe7f",
   "metadata": {},
   "outputs": [],
   "source": [
    "PublishedDate_List=[]\n",
    "for i in soup.find_all('span',class_=\"sc-1thf9ly-2 bKddwo\"):\n",
    "    PublishedDate_List.append(i.text)\n",
    "PublishedDate_List"
   ]
  },
  {
   "cell_type": "code",
   "execution_count": null,
   "id": "3bd619c7",
   "metadata": {},
   "outputs": [],
   "source": [
    "URL_List=[]\n",
    "for i in soup.find_all('a',class_=\"sc-5smygv-0 nrDZj\"):\n",
    "    URL_List.append(i.get(\"href\"))\n",
    "URL_List"
   ]
  },
  {
   "cell_type": "code",
   "execution_count": null,
   "id": "50bdf52e",
   "metadata": {},
   "outputs": [],
   "source": [
    "import pandas as pd\n",
    "df=pd.DataFrame(list(zip(PaperTitle_List,Authors_List,PublishedDate_List,URL_List)),columns=['Title','Authors','Date','Paper URL'])"
   ]
  },
  {
   "cell_type": "code",
   "execution_count": null,
   "id": "785f0d69",
   "metadata": {},
   "outputs": [],
   "source": [
    "df"
   ]
  },
  {
   "cell_type": "markdown",
   "id": "97c98601",
   "metadata": {},
   "source": [
    "# 9. Write a python program to scrape mentioned details from dineout.co.in"
   ]
  },
  {
   "cell_type": "code",
   "execution_count": null,
   "id": "bc49d363",
   "metadata": {},
   "outputs": [],
   "source": [
    "!pip install bs4\n",
    "!pip install requests"
   ]
  },
  {
   "cell_type": "code",
   "execution_count": null,
   "id": "ef7cfa53",
   "metadata": {},
   "outputs": [],
   "source": [
    "from bs4 import BeautifulSoup\n",
    "import requests"
   ]
  },
  {
   "cell_type": "code",
   "execution_count": null,
   "id": "53636340",
   "metadata": {},
   "outputs": [],
   "source": [
    "page=requests.get('https://www.dineout.co.in/delhi-restaurants/buffet-special')\n",
    "page"
   ]
  },
  {
   "cell_type": "code",
   "execution_count": null,
   "id": "87dcd2f9",
   "metadata": {},
   "outputs": [],
   "source": [
    "soup=BeautifulSoup(page.content)\n",
    "soup"
   ]
  },
  {
   "cell_type": "code",
   "execution_count": null,
   "id": "9d7bb744",
   "metadata": {},
   "outputs": [],
   "source": [
    "Restaurant=soup.find('div',class_=\"restnt-info cursor\")\n",
    "Restaurant"
   ]
  },
  {
   "cell_type": "code",
   "execution_count": null,
   "id": "c5c8e7b5",
   "metadata": {},
   "outputs": [],
   "source": [
    "Restaurant.text"
   ]
  },
  {
   "cell_type": "code",
   "execution_count": null,
   "id": "343171c9",
   "metadata": {},
   "outputs": [],
   "source": [
    "Restaurant_List=[]\n",
    "for i in soup.find_all('div',class_=\"restnt-info cursor\"):\n",
    "    Restaurant_List.append(i.text)\n",
    "Restaurant_List"
   ]
  },
  {
   "cell_type": "code",
   "execution_count": null,
   "id": "1b1b886b",
   "metadata": {},
   "outputs": [],
   "source": [
    "Ratings=soup.find('div',class_=\"restnt-rating rating-4\")\n",
    "Ratings"
   ]
  },
  {
   "cell_type": "code",
   "execution_count": null,
   "id": "35dbcd1f",
   "metadata": {},
   "outputs": [],
   "source": [
    "Ratings.text"
   ]
  },
  {
   "cell_type": "code",
   "execution_count": null,
   "id": "3e7aad6c",
   "metadata": {},
   "outputs": [],
   "source": [
    "Ratings_List=[]\n",
    "for i in soup.find_all('div',class_=\"restnt-rating rating-4\"):\n",
    "    Ratings_List.append(i.text)\n",
    "Ratings_List"
   ]
  },
  {
   "cell_type": "code",
   "execution_count": null,
   "id": "46c3807f",
   "metadata": {},
   "outputs": [],
   "source": [
    "ImagesURL=soup.find('img',class_=\"no-img\")\n",
    "ImagesURL"
   ]
  },
  {
   "cell_type": "code",
   "execution_count": null,
   "id": "ed6d4b9e",
   "metadata": {},
   "outputs": [],
   "source": [
    "images_List = []\n",
    "for i in soup.find_all('img',class_=\"no-img\"):\n",
    "    images_List.append(i['data-src'])\n",
    "images_List"
   ]
  },
  {
   "cell_type": "code",
   "execution_count": null,
   "id": "1dbb6cf5",
   "metadata": {},
   "outputs": [],
   "source": [
    "Location=soup.find('div',class_=\"restnt-loc ellipsis\")\n",
    "Location_List=[]\n",
    "for i in soup.find_all('div',class_=\"restnt-loc ellipsis\"):\n",
    "    Location_List.append(i.text)\n",
    "Location_List"
   ]
  },
  {
   "cell_type": "code",
   "execution_count": null,
   "id": "ca03aa65",
   "metadata": {},
   "outputs": [],
   "source": [
    "Cuisine=soup.find('span',class_=\"double-line-ellipsis\")\n",
    "Cuisine_List=[]\n",
    "for i in soup.find_all('span',class_=\"double-line-ellipsis\"):\n",
    "    Cuisine_List.append(i.text)\n",
    "Cuisine_List\n"
   ]
  },
  {
   "cell_type": "code",
   "execution_count": null,
   "id": "936d268d",
   "metadata": {},
   "outputs": [],
   "source": [
    "import pandas as pd\n",
    "df=pd.DataFrame(list(zip(Restaurant_List,Location_List,Cuisine_List,Ratings_List,Cuisine_List)),columns=['Restaurant','Location','Cuisine','Ratings','Images'])\n",
    "df"
   ]
  },
  {
   "cell_type": "markdown",
   "id": "2a360aa8",
   "metadata": {},
   "source": [
    "# 6a. python program to scrape cricket rankings from icc-cricket.com to scrape Top 10 ODI teams in women’s cricket along with the records for matches, points and rating."
   ]
  },
  {
   "cell_type": "code",
   "execution_count": null,
   "id": "4f9cc977",
   "metadata": {},
   "outputs": [],
   "source": [
    "!pip install bs4\n",
    "!pip install requests"
   ]
  },
  {
   "cell_type": "code",
   "execution_count": null,
   "id": "782db329",
   "metadata": {},
   "outputs": [],
   "source": [
    "from bs4 import BeautifulSoup\n",
    "import requests"
   ]
  },
  {
   "cell_type": "code",
   "execution_count": null,
   "id": "309899ef",
   "metadata": {},
   "outputs": [],
   "source": [
    "page = requests.get('https://www.icc-cricket.com/rankings/womens/team-rankings/odi')\n",
    "page"
   ]
  },
  {
   "cell_type": "code",
   "execution_count": null,
   "id": "8800b0a9",
   "metadata": {},
   "outputs": [],
   "source": [
    "soup=BeautifulSoup(page.content)\n",
    "soup"
   ]
  },
  {
   "cell_type": "code",
   "execution_count": null,
   "id": "98654386",
   "metadata": {},
   "outputs": [],
   "source": [
    "Teams=soup.find('span',class_=\"u-hide-phablet\")\n",
    "Teams"
   ]
  },
  {
   "cell_type": "code",
   "execution_count": null,
   "id": "71f504fc",
   "metadata": {},
   "outputs": [],
   "source": [
    "Teams.text"
   ]
  },
  {
   "cell_type": "code",
   "execution_count": null,
   "id": "45cd02af",
   "metadata": {},
   "outputs": [],
   "source": [
    "Teams_List=[]\n",
    "for i in soup.find_all('span',class_=\"u-hide-phablet\"):\n",
    "    Teams_List.append(i.text)\n",
    "Teams_List"
   ]
  },
  {
   "cell_type": "code",
   "execution_count": null,
   "id": "377360a6",
   "metadata": {},
   "outputs": [],
   "source": [
    "Matches=soup.find('td',class_=\"table-body__cell u-center-text\")\n",
    "Matches"
   ]
  },
  {
   "cell_type": "code",
   "execution_count": null,
   "id": "c416e83a",
   "metadata": {},
   "outputs": [],
   "source": [
    "matches_List=[]\n",
    "for i in soup.find_all('td',class_=\"table-body__cell u-center-text\"):\n",
    "    matches_List.append(i.text)\n",
    "matches_List"
   ]
  },
  {
   "cell_type": "code",
   "execution_count": null,
   "id": "3270c3a1",
   "metadata": {},
   "outputs": [],
   "source": [
    "res = matches_List[::2] + matches_List[1::2]\n",
    "New_List=print(str(res))"
   ]
  },
  {
   "cell_type": "code",
   "execution_count": null,
   "id": "00abe6f2",
   "metadata": {},
   "outputs": [],
   "source": [
    "Matches_List=res[:10]\n",
    "Points_List=res[10:]"
   ]
  },
  {
   "cell_type": "code",
   "execution_count": null,
   "id": "7965fc55",
   "metadata": {},
   "outputs": [],
   "source": [
    "print(Matches_List)\n",
    "print(Points_List)"
   ]
  },
  {
   "cell_type": "code",
   "execution_count": null,
   "id": "09c50517",
   "metadata": {},
   "outputs": [],
   "source": [
    "Matches_List.insert(0,29)\n",
    "print(Matches_List)"
   ]
  },
  {
   "cell_type": "code",
   "execution_count": null,
   "id": "cf8f60bd",
   "metadata": {},
   "outputs": [],
   "source": [
    "Points_List.insert(0,'4,837')\n",
    "Points_List"
   ]
  },
  {
   "cell_type": "code",
   "execution_count": null,
   "id": "f05467bc",
   "metadata": {},
   "outputs": [],
   "source": [
    "Ratings=soup.find('td',class_=\"table-body__cell u-text-right rating\")\n",
    "Ratings"
   ]
  },
  {
   "cell_type": "code",
   "execution_count": null,
   "id": "da8b0611",
   "metadata": {},
   "outputs": [],
   "source": [
    "Ratings.text"
   ]
  },
  {
   "cell_type": "code",
   "execution_count": null,
   "id": "b50e4716",
   "metadata": {},
   "outputs": [],
   "source": [
    "Ratings_List=[]\n",
    "for i in soup.find_all('td',class_=\"table-body__cell u-text-right rating\"):\n",
    "    Ratings_List.append(i.text)\n",
    "Ratings_List"
   ]
  },
  {
   "cell_type": "code",
   "execution_count": null,
   "id": "55a88ee4",
   "metadata": {},
   "outputs": [],
   "source": [
    "Ratings_List.insert(0,'167')\n",
    "Ratings_List"
   ]
  },
  {
   "cell_type": "code",
   "execution_count": null,
   "id": "fa9df141",
   "metadata": {},
   "outputs": [],
   "source": [
    "import pandas as pd\n",
    "df=pd.DataFrame(list(zip(Teams_List,Matches_List,Points_List,Ratings_List)),columns=['Teams','Matches','Points','Ratings'])\n",
    "df"
   ]
  },
  {
   "cell_type": "markdown",
   "id": "a228c449",
   "metadata": {},
   "source": [
    "# 6b. Python program to scrape top 10 women’s ODI Batting players along with the records of their team and rating."
   ]
  },
  {
   "cell_type": "code",
   "execution_count": null,
   "id": "874c68bc",
   "metadata": {},
   "outputs": [],
   "source": [
    "!pip install bs4\n",
    "!pip install requests"
   ]
  },
  {
   "cell_type": "code",
   "execution_count": null,
   "id": "2605e3e6",
   "metadata": {},
   "outputs": [],
   "source": [
    "from bs4 import BeautifulSoup\n",
    "import requests"
   ]
  },
  {
   "cell_type": "code",
   "execution_count": null,
   "id": "926b4d13",
   "metadata": {},
   "outputs": [],
   "source": [
    "page=requests.get('https://www.icc-cricket.com/rankings/womens/player-rankings/odi')\n",
    "page"
   ]
  },
  {
   "cell_type": "code",
   "execution_count": null,
   "id": "347ec1af",
   "metadata": {},
   "outputs": [],
   "source": [
    "soup=BeautifulSoup(page.content)\n",
    "soup"
   ]
  },
  {
   "cell_type": "code",
   "execution_count": null,
   "id": "7f2a80ba",
   "metadata": {},
   "outputs": [],
   "source": [
    "Player=soup.find('td',class_=\"table-body__cell name\")\n",
    "Player"
   ]
  },
  {
   "cell_type": "code",
   "execution_count": null,
   "id": "8cb4ede8",
   "metadata": {},
   "outputs": [],
   "source": [
    "Player.text"
   ]
  },
  {
   "cell_type": "code",
   "execution_count": null,
   "id": "935b4cf0",
   "metadata": {},
   "outputs": [],
   "source": [
    "Player_List=[]\n",
    "for i in soup.find_all('td',class_=\"table-body__cell name\"):\n",
    "    Player_List.append(i.text)\n",
    "Player_List"
   ]
  },
  {
   "cell_type": "code",
   "execution_count": null,
   "id": "876bf87b",
   "metadata": {},
   "outputs": [],
   "source": [
    "Player_List.insert(0,'Alyssa Healy')\n",
    "Player_List.insert(19,'Natalie Sciver')\n",
    "Player_List"
   ]
  },
  {
   "cell_type": "code",
   "execution_count": null,
   "id": "1232fee1",
   "metadata": {},
   "outputs": [],
   "source": [
    "Teams=soup.find('span',class_=\"table-body__logo-text\")\n",
    "Teams"
   ]
  },
  {
   "cell_type": "code",
   "execution_count": null,
   "id": "2958c2a3",
   "metadata": {},
   "outputs": [],
   "source": [
    "Teams.text"
   ]
  },
  {
   "cell_type": "code",
   "execution_count": null,
   "id": "f604f9b4",
   "metadata": {},
   "outputs": [],
   "source": [
    "Teams_List=[]\n",
    "for i in soup.find_all('span',class_=\"table-body__logo-text\"):\n",
    "    Teams_List.append(i.text)\n",
    "Teams_List.insert(0,'AUS')\n",
    "Teams_List.insert(19,'ENG')\n",
    "Teams_List"
   ]
  },
  {
   "cell_type": "code",
   "execution_count": null,
   "id": "d9f7f6a3",
   "metadata": {},
   "outputs": [],
   "source": [
    "Ratings=soup.find('td',class_=\"table-body__cell u-text-right rating\")\n",
    "Ratings"
   ]
  },
  {
   "cell_type": "code",
   "execution_count": null,
   "id": "f6350899",
   "metadata": {},
   "outputs": [],
   "source": [
    "Ratings.text"
   ]
  },
  {
   "cell_type": "code",
   "execution_count": null,
   "id": "f591c1f3",
   "metadata": {},
   "outputs": [],
   "source": [
    "Ratings_List=[]\n",
    "for i in soup.find_all('td',class_=\"table-body__cell u-text-right rating\"):\n",
    "    Ratings_List.append(i.text)\n",
    "Ratings_List.insert(0,'785')\n",
    "Ratings_List.insert(19,'379')\n",
    "Ratings_List"
   ]
  },
  {
   "cell_type": "code",
   "execution_count": null,
   "id": "669da652",
   "metadata": {},
   "outputs": [],
   "source": [
    "import pandas as pd\n",
    "Batting_Records_df=pd.DataFrame(list(zip(Player_List,Teams_List,Ratings_List)),columns=['Players','Teams','Ratings'])\n",
    "Batting_Records_df"
   ]
  },
  {
   "cell_type": "code",
   "execution_count": null,
   "id": "5d2adee9",
   "metadata": {},
   "outputs": [],
   "source": [
    "Batting_Records_df1=Batting_Records_df.drop(Batting_Records_df.index[10:])\n",
    "Batting_Records_df1"
   ]
  },
  {
   "cell_type": "markdown",
   "id": "0dfc3292",
   "metadata": {},
   "source": [
    "# 6c. Top 10 women’s ODI all-rounder along with the records of their team and rating."
   ]
  },
  {
   "cell_type": "code",
   "execution_count": null,
   "id": "dd39c44e",
   "metadata": {},
   "outputs": [],
   "source": [
    "import pandas as pd\n",
    "df=pd.DataFrame(list(zip(Player_List,Teams_List,Ratings_List)),columns=['Players','Teams','Ratings'])\n",
    "df"
   ]
  },
  {
   "cell_type": "code",
   "execution_count": null,
   "id": "3fab9af9",
   "metadata": {},
   "outputs": [],
   "source": [
    "AllRounder_List=df.drop(df.index[:19])\n",
    "print(AllRounder_List)"
   ]
  },
  {
   "cell_type": "markdown",
   "id": "87d9f330",
   "metadata": {},
   "source": [
    "# 10. python program to scrape the details of top publications from Google Scholar from\n",
    "https://scholar.google.com/citations?view_op=top_venues&hl=en"
   ]
  },
  {
   "cell_type": "code",
   "execution_count": null,
   "id": "441805e9",
   "metadata": {},
   "outputs": [],
   "source": [
    "!pip install bs4\n",
    "!pip install requests"
   ]
  },
  {
   "cell_type": "code",
   "execution_count": null,
   "id": "3d2b2dd8",
   "metadata": {},
   "outputs": [],
   "source": [
    "from bs4 import BeautifulSoup\n",
    "import requests"
   ]
  },
  {
   "cell_type": "code",
   "execution_count": null,
   "id": "159eb2fe",
   "metadata": {},
   "outputs": [],
   "source": [
    "page=requests.get('https://scholar.google.com/citations?view_op=top_venues&hl=en')\n",
    "page"
   ]
  },
  {
   "cell_type": "code",
   "execution_count": null,
   "id": "b9026ba6",
   "metadata": {},
   "outputs": [],
   "source": [
    "soup=BeautifulSoup(page.content)\n",
    "soup"
   ]
  },
  {
   "cell_type": "code",
   "execution_count": null,
   "id": "0e32e8b3",
   "metadata": {},
   "outputs": [],
   "source": [
    "Publications=soup.find('td',class_=\"gsc_mvt_t\")\n",
    "Publications"
   ]
  },
  {
   "cell_type": "code",
   "execution_count": null,
   "id": "51b10895",
   "metadata": {},
   "outputs": [],
   "source": [
    "Publications.text"
   ]
  },
  {
   "cell_type": "code",
   "execution_count": null,
   "id": "57fc9fcb",
   "metadata": {},
   "outputs": [],
   "source": [
    "Publications_List=[]\n",
    "for i in soup.find_all('td',class_=\"gsc_mvt_t\"):\n",
    "    Publications_List.append(i.text)\n",
    "Publications_List"
   ]
  },
  {
   "cell_type": "code",
   "execution_count": null,
   "id": "b4507199",
   "metadata": {},
   "outputs": [],
   "source": [
    "List=soup.find('td',class_=\"gsc_mvt_n\")\n",
    "List"
   ]
  },
  {
   "cell_type": "code",
   "execution_count": null,
   "id": "07d2938f",
   "metadata": {},
   "outputs": [],
   "source": [
    "List.text"
   ]
  },
  {
   "cell_type": "code",
   "execution_count": null,
   "id": "56827336",
   "metadata": {},
   "outputs": [],
   "source": [
    "List1=[]\n",
    "for i in soup.find_all('td',class_=\"gsc_mvt_n\"):\n",
    "    List1.append(i.text)\n",
    "List1"
   ]
  },
  {
   "cell_type": "code",
   "execution_count": null,
   "id": "f748efc8",
   "metadata": {},
   "outputs": [],
   "source": [
    "res=List1[::2]+List1[1::2]\n",
    "Newlist=print(str(res))"
   ]
  },
  {
   "cell_type": "code",
   "execution_count": null,
   "id": "3146f9e7",
   "metadata": {},
   "outputs": [],
   "source": [
    "h5index_List=res[:100]\n",
    "h5median_List=res[100:]"
   ]
  },
  {
   "cell_type": "code",
   "execution_count": null,
   "id": "68983a1f",
   "metadata": {},
   "outputs": [],
   "source": [
    "print(h5index_List)"
   ]
  },
  {
   "cell_type": "code",
   "execution_count": null,
   "id": "4f1f53dd",
   "metadata": {},
   "outputs": [],
   "source": [
    "print(h5median_List)"
   ]
  },
  {
   "cell_type": "code",
   "execution_count": null,
   "id": "cb0248f9",
   "metadata": {},
   "outputs": [],
   "source": [
    "import pandas as pd\n",
    "df=pd.DataFrame(list(zip(Publications_List,h5index_List,h5median_List)),columns=['Publications','h5-index','h5-median'])\n",
    "df"
   ]
  },
  {
   "cell_type": "code",
   "execution_count": null,
   "id": "14617f93",
   "metadata": {},
   "outputs": [],
   "source": []
  }
 ],
 "metadata": {
  "kernelspec": {
   "display_name": "Python 3 (ipykernel)",
   "language": "python",
   "name": "python3"
  },
  "language_info": {
   "codemirror_mode": {
    "name": "ipython",
    "version": 3
   },
   "file_extension": ".py",
   "mimetype": "text/x-python",
   "name": "python",
   "nbconvert_exporter": "python",
   "pygments_lexer": "ipython3",
   "version": "3.9.7"
  }
 },
 "nbformat": 4,
 "nbformat_minor": 5
}
