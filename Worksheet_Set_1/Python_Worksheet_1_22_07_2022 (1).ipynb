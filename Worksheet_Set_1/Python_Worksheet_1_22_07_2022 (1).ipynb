{
 "cells": [
  {
   "cell_type": "markdown",
   "id": "827cb23e",
   "metadata": {},
   "source": [
    "Write a python program to find the factorial of a number.\n"
   ]
  },
  {
   "cell_type": "code",
   "execution_count": 23,
   "id": "163a07ec",
   "metadata": {},
   "outputs": [
    {
     "name": "stdout",
     "output_type": "stream",
     "text": [
      "Enter a number: 3\n",
      "The factorial of the number is 6\n"
     ]
    }
   ],
   "source": [
    "a = int(input(\"Enter a number: \")) \n",
    "f = 1 \n",
    "for i in range(1,a+1): \n",
    "    f = f * i \n",
    " \n",
    "print(f'The factorial of the number is {f}')"
   ]
  },
  {
   "cell_type": "markdown",
   "id": "fc3b732c",
   "metadata": {},
   "source": [
    "Write a python program to find whether a number is prime or composite."
   ]
  },
  {
   "cell_type": "code",
   "execution_count": 24,
   "id": "0726ac1a",
   "metadata": {},
   "outputs": [
    {
     "name": "stdout",
     "output_type": "stream",
     "text": [
      "Enter a number: 7\n",
      "7 is a prime number\n"
     ]
    }
   ],
   "source": [
    "a = int(input(\"Enter a number: \"))\n",
    "while True:\n",
    "    b = list (range (2,a))\n",
    "    for i in b:\n",
    "        if a%i==0:\n",
    "            print(a,\"is a composite\")\n",
    "        else:\n",
    "            print(a,\"is a prime number\")\n",
    "        break\n",
    "    break"
   ]
  },
  {
   "cell_type": "markdown",
   "id": "035ac096",
   "metadata": {},
   "source": [
    "Write a python program to check whether a given string is palindrome or not"
   ]
  },
  {
   "cell_type": "code",
   "execution_count": 25,
   "id": "8bfd0885",
   "metadata": {},
   "outputs": [
    {
     "name": "stdout",
     "output_type": "stream",
     "text": [
      "Yes\n"
     ]
    }
   ],
   "source": [
    "def isPalindrome(s):\n",
    "    rev = ''.join(reversed(s))\n",
    "    if (s==rev):\n",
    "        return True\n",
    "    return False\n",
    "s=\"madam\"\n",
    "ans=isPalindrome(s)\n",
    "if (ans):\n",
    "    print(\"Yes\")\n",
    "else:\n",
    "    print(\"No\")"
   ]
  },
  {
   "cell_type": "markdown",
   "id": "70c8e75e",
   "metadata": {},
   "source": [
    "Write a Python program to get the third side of right-angled triangle from two given sides"
   ]
  },
  {
   "cell_type": "code",
   "execution_count": 27,
   "id": "95af5a54",
   "metadata": {},
   "outputs": [
    {
     "name": "stdout",
     "output_type": "stream",
     "text": [
      "Enter base: 10\n",
      "Enter height: 12\n",
      "Enter angle: 90\n",
      "Hypotenuse or thrird side= 15.620499351813308\n"
     ]
    }
   ],
   "source": [
    "import math\n",
    "a = float(input(\"Enter base: \"))\n",
    "b = float(input(\"Enter height: \"))\n",
    "c = float(input(\"Enter angle: \"))\n",
    "\n",
    "x = math.sqrt(a**2+b**2)\n",
    "print(\"Hypotenuse or thrird side=\", x)"
   ]
  },
  {
   "cell_type": "markdown",
   "id": "f6879270",
   "metadata": {},
   "source": [
    "Write a python program to print the frequency of each of the characters present in a given string"
   ]
  },
  {
   "cell_type": "code",
   "execution_count": 30,
   "id": "be3e9c7c",
   "metadata": {},
   "outputs": [
    {
     "name": "stdout",
     "output_type": "stream",
     "text": [
      "{'s': 1, 'p': 3, 'o': 3, 'H': 1, 't': 1, 'm': 1, 'u': 1, 'i': 1}\n"
     ]
    }
   ],
   "source": [
    "str = \"Hippopotomus\"\n",
    "Y = {i: str.count(i) for i in set(str)}\n",
    "\n",
    "print(Y)"
   ]
  },
  {
   "cell_type": "code",
   "execution_count": null,
   "id": "2c258681",
   "metadata": {},
   "outputs": [],
   "source": []
  }
 ],
 "metadata": {
  "kernelspec": {
   "display_name": "Python 3 (ipykernel)",
   "language": "python",
   "name": "python3"
  },
  "language_info": {
   "codemirror_mode": {
    "name": "ipython",
    "version": 3
   },
   "file_extension": ".py",
   "mimetype": "text/x-python",
   "name": "python",
   "nbconvert_exporter": "python",
   "pygments_lexer": "ipython3",
   "version": "3.9.7"
  }
 },
 "nbformat": 4,
 "nbformat_minor": 5
}
